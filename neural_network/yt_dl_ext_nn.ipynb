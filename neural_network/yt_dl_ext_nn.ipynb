{
  "nbformat": 4,
  "nbformat_minor": 0,
  "metadata": {
    "colab": {
      "name": "yt-dl-ext_nn_final.ipynb",
      "provenance": [],
      "collapsed_sections": []
    },
    "kernelspec": {
      "name": "python3",
      "display_name": "Python 3"
    },
    "accelerator": "TPU"
  },
  "cells": [
    {
      "cell_type": "code",
      "metadata": {
        "trusted": true,
        "_uuid": "d6fb32fd69316596e236eab5fb8cf77c848508c3",
        "id": "nCSvtOsza2lX"
      },
      "source": [
        "import pandas as pd\n",
        "import numpy as np\n",
        "import matplotlib.pyplot as plt\n",
        "import seaborn as sns\n",
        "from sklearn.model_selection import train_test_split\n",
        "from sklearn.preprocessing import LabelEncoder, OneHotEncoder\n",
        "from sklearn.compose import ColumnTransformer\n",
        "from sklearn.metrics import confusion_matrix, plot_confusion_matrix\n",
        "from keras.models import Model\n",
        "from keras.layers import LSTM, Activation, Dense, Dropout, Input, Embedding\n",
        "from keras.optimizers import RMSprop\n",
        "from keras.preprocessing.text import Tokenizer\n",
        "from keras.preprocessing import sequence\n",
        "from keras.utils import to_categorical\n",
        "from keras.callbacks import EarlyStopping\n",
        "%matplotlib inline"
      ],
      "execution_count": 18,
      "outputs": []
    },
    {
      "cell_type": "code",
      "metadata": {
        "id": "fujG4ESAhU7c"
      },
      "source": [
        "def plot_confusion_matrix(cm, classes,\r\n",
        "                          normalize=False,\r\n",
        "                          title='Confusion matrix',\r\n",
        "                          cmap=plt.cm.Blues):\r\n",
        "    \"\"\"\r\n",
        "    This function prints and plots the confusion matrix.\r\n",
        "    Normalization can be applied by setting `normalize=True`.\r\n",
        "    \"\"\"\r\n",
        "    import itertools\r\n",
        "    if normalize:\r\n",
        "        cm = cm.astype('float') / cm.sum(axis=1)[:, np.newaxis]\r\n",
        "\r\n",
        "    plt.imshow(cm, interpolation='nearest', cmap=cmap)\r\n",
        "    plt.title(title)\r\n",
        "    plt.colorbar()\r\n",
        "    tick_marks = np.arange(len(classes))\r\n",
        "    plt.xticks(tick_marks, classes, rotation=45)\r\n",
        "    plt.yticks(tick_marks, classes)\r\n",
        "\r\n",
        "    fmt = '.2f' if normalize else 'd'\r\n",
        "    thresh = cm.max() / 2.\r\n",
        "    for i, j in itertools.product(range(cm.shape[0]), range(cm.shape[1])):\r\n",
        "        plt.text(j, i, format(cm[i, j], fmt),\r\n",
        "                 horizontalalignment=\"center\",\r\n",
        "                 color=\"white\" if cm[i, j] > thresh else \"black\")\r\n",
        "\r\n",
        "    plt.ylabel('True label')\r\n",
        "    plt.xlabel('Predicted label')\r\n",
        "    plt.tight_layout()"
      ],
      "execution_count": 19,
      "outputs": []
    },
    {
      "cell_type": "code",
      "metadata": {
        "trusted": true,
        "_uuid": "aca2f1d9da3f35d104763166fe4d25448410d8f2",
        "id": "4-e3R4lia2lh",
        "colab": {
          "base_uri": "https://localhost:8080/",
          "height": 424
        },
        "outputId": "8fa696f8-774a-4aa6-d419-23903be547ca"
      },
      "source": [
        "#!cp /content/drive/MyDrive/Colab\\ Notebooks/data/* .\n",
        "\n",
        "df = pd.read_table('video_titles.txt', sep='\\n', names=['vidtitle'])\n",
        "df.insert(0, 'category', ['video']*df.size)\n",
        "cnt1 = df.category.size\n",
        "\n",
        "toappend = pd.read_table('music_titles.txt', sep='\\n', names=['vidtitle'])\n",
        "toappend.insert(0, 'category', ['music']*toappend.size)\n",
        "\n",
        "df = df.append(toappend)\n",
        "\n",
        "cnt2 = df.category.size\n",
        "\n",
        "toappend = pd.read_table('podcast_titles.txt', sep='\\n', names=['vidtitle'])\n",
        "toappend.insert(0, 'category', ['podcast']*toappend.size)\n",
        "\n",
        "df = df.append(toappend)\n",
        "\n",
        "cnt3 = df.category.size\n",
        "\n",
        "df"
      ],
      "execution_count": 20,
      "outputs": [
        {
          "output_type": "execute_result",
          "data": {
            "text/html": [
              "<div>\n",
              "<style scoped>\n",
              "    .dataframe tbody tr th:only-of-type {\n",
              "        vertical-align: middle;\n",
              "    }\n",
              "\n",
              "    .dataframe tbody tr th {\n",
              "        vertical-align: top;\n",
              "    }\n",
              "\n",
              "    .dataframe thead th {\n",
              "        text-align: right;\n",
              "    }\n",
              "</style>\n",
              "<table border=\"1\" class=\"dataframe\">\n",
              "  <thead>\n",
              "    <tr style=\"text-align: right;\">\n",
              "      <th></th>\n",
              "      <th>category</th>\n",
              "      <th>vidtitle</th>\n",
              "    </tr>\n",
              "  </thead>\n",
              "  <tbody>\n",
              "    <tr>\n",
              "      <th>0</th>\n",
              "      <td>video</td>\n",
              "      <td>15000 Odběratelů  &amp; soutěž o  BeoPlay H8</td>\n",
              "    </tr>\n",
              "    <tr>\n",
              "      <th>1</th>\n",
              "      <td>video</td>\n",
              "      <td>262 dnů Carnivore diet. Výsledky testů, aktuá...</td>\n",
              "    </tr>\n",
              "    <tr>\n",
              "      <th>2</th>\n",
              "      <td>video</td>\n",
              "      <td>27\" iMac 2020. Návrat krále? [4K]</td>\n",
              "    </tr>\n",
              "    <tr>\n",
              "      <th>3</th>\n",
              "      <td>video</td>\n",
              "      <td>Apple Watch Series 5 - UNBOXING A PRVNÍ POCIT...</td>\n",
              "    </tr>\n",
              "    <tr>\n",
              "      <th>4</th>\n",
              "      <td>video</td>\n",
              "      <td>Audi e-tron ve španělské Marbelle a setkání s...</td>\n",
              "    </tr>\n",
              "    <tr>\n",
              "      <th>...</th>\n",
              "      <td>...</td>\n",
              "      <td>...</td>\n",
              "    </tr>\n",
              "    <tr>\n",
              "      <th>1931</th>\n",
              "      <td>podcast</td>\n",
              "      <td>Za \"za všechno může Kalousek\" může Babiš, říká...</td>\n",
              "    </tr>\n",
              "    <tr>\n",
              "      <th>1932</th>\n",
              "      <td>podcast</td>\n",
              "      <td>Zdeněk Hřib: Češi mají v povaze obcházet předp...</td>\n",
              "    </tr>\n",
              "    <tr>\n",
              "      <th>1933</th>\n",
              "      <td>podcast</td>\n",
              "      <td>Zdeněk Pohlreich: Pro KFC mám slabost, ale kuř...</td>\n",
              "    </tr>\n",
              "    <tr>\n",
              "      <th>1934</th>\n",
              "      <td>podcast</td>\n",
              "      <td>Zeman jde přes mrtvoly. Jeho poradci spoluprac...</td>\n",
              "    </tr>\n",
              "    <tr>\n",
              "      <th>1935</th>\n",
              "      <td>podcast</td>\n",
              "      <td>Zombies &amp; America's Nightmares (Dead Meat Podc...</td>\n",
              "    </tr>\n",
              "  </tbody>\n",
              "</table>\n",
              "<p>7392 rows × 2 columns</p>\n",
              "</div>"
            ],
            "text/plain": [
              "     category                                           vidtitle\n",
              "0       video           15000 Odběratelů  & soutěž o  BeoPlay H8\n",
              "1       video   262 dnů Carnivore diet. Výsledky testů, aktuá...\n",
              "2       video                  27\" iMac 2020. Návrat krále? [4K]\n",
              "3       video   Apple Watch Series 5 - UNBOXING A PRVNÍ POCIT...\n",
              "4       video   Audi e-tron ve španělské Marbelle a setkání s...\n",
              "...       ...                                                ...\n",
              "1931  podcast  Za \"za všechno může Kalousek\" může Babiš, říká...\n",
              "1932  podcast  Zdeněk Hřib: Češi mají v povaze obcházet předp...\n",
              "1933  podcast  Zdeněk Pohlreich: Pro KFC mám slabost, ale kuř...\n",
              "1934  podcast  Zeman jde přes mrtvoly. Jeho poradci spoluprac...\n",
              "1935  podcast  Zombies & America's Nightmares (Dead Meat Podc...\n",
              "\n",
              "[7392 rows x 2 columns]"
            ]
          },
          "metadata": {
            "tags": []
          },
          "execution_count": 20
        }
      ]
    },
    {
      "cell_type": "code",
      "metadata": {
        "trusted": true,
        "_uuid": "a12002f521dd8eaeb0f69a932cbf23815ffd09d7",
        "id": "6BRRexbca2lq",
        "colab": {
          "base_uri": "https://localhost:8080/",
          "height": 313
        },
        "outputId": "c6571d78-7cae-4e63-9bc4-0a3ddeac1609"
      },
      "source": [
        "plt.figure(facecolor='lightgrey')\n",
        "plt.title('Number of videos in each category')\n",
        "\n",
        "sns.countplot(x=df.category)"
      ],
      "execution_count": 21,
      "outputs": [
        {
          "output_type": "execute_result",
          "data": {
            "text/plain": [
              "<matplotlib.axes._subplots.AxesSubplot at 0x7efd2639d0f0>"
            ]
          },
          "metadata": {
            "tags": []
          },
          "execution_count": 21
        },
        {
          "output_type": "display_data",
          "data": {
            "image/png": "[encoded data removed]",
            "text/plain": [
              "<Figure size 432x288 with 1 Axes>"
            ]
          },
          "metadata": {
            "tags": []
          }
        }
      ]
    },
    {
      "cell_type": "code",
      "metadata": {
        "collapsed": true,
        "trusted": true,
        "_uuid": "a1a345c1683e2fcc7173ecae867a5da87f2dde24",
        "id": "8P-ZAUfya2lz"
      },
      "source": [
        "for i in range(cnt1):\n",
        "  df.category.iloc[i] = 0\n",
        "for i in range(cnt1,cnt2):\n",
        "  df.category.iloc[i] = 1\n",
        "for i in range(cnt2,cnt3):\n",
        "  df.category.iloc[i] = 2\n",
        "\n",
        "\n",
        "X = df.vidtitle\n",
        "Y = np.array(df.category)\n",
        "Y = Y.reshape(-1,1)\n",
        "\n",
        "encoder = ColumnTransformer(\n",
        "    [('category', OneHotEncoder(dtype='int'), [0])],\n",
        "    remainder = 'passthrough'\n",
        ")\n",
        "Y = encoder.fit_transform(Y)"
      ],
      "execution_count": 22,
      "outputs": []
    },
    {
      "cell_type": "code",
      "metadata": {
        "scrolled": true,
        "trusted": true,
        "collapsed": true,
        "_uuid": "aa3386af09469682c66cc53a1830a4e42f0e70b6",
        "id": "I9f6Ltuja2l5"
      },
      "source": [
        "X_train,X_test,Y_train,Y_test = train_test_split(X,Y,test_size=0.15)"
      ],
      "execution_count": 23,
      "outputs": []
    },
    {
      "cell_type": "code",
      "metadata": {
        "trusted": true,
        "collapsed": true,
        "_uuid": "bdca14f2b8cd7bd7cb5ee66fd40ea522217c03c6",
        "id": "FfEM5OJIa2l7"
      },
      "source": [
        "max_words = 1000\n",
        "max_len = 150\n",
        "tok = Tokenizer(num_words=max_words)\n",
        "tok.fit_on_texts(X_train)\n",
        "sequences = tok.texts_to_sequences(X_train)\n",
        "sequences_matrix = sequence.pad_sequences(sequences,maxlen=max_len)"
      ],
      "execution_count": 24,
      "outputs": []
    },
    {
      "cell_type": "code",
      "metadata": {
        "trusted": true,
        "collapsed": true,
        "_uuid": "78fff25b8be1de575bff071a2027f3dd2b11b911",
        "id": "8OFOY1Oia2l9"
      },
      "source": [
        "def RNN():\n",
        "    inputs = Input(name='inputs',shape=[max_len])\n",
        "    layer = Embedding(max_words,50,input_length=max_len)(inputs)\n",
        "    layer = LSTM(128)(layer)\n",
        "    layer = Dense(512,name='FC1')(layer)\n",
        "    layer = Activation('relu')(layer)\n",
        "    layer = Dropout(0.2)(layer)\n",
        "    layer = Dense(3,name='out_layer')(layer)\n",
        "    layer = Activation('sigmoid')(layer)\n",
        "    model = Model(inputs=inputs,outputs=layer)\n",
        "    return model"
      ],
      "execution_count": 25,
      "outputs": []
    },
    {
      "cell_type": "code",
      "metadata": {
        "trusted": true,
        "_uuid": "a0ede32d4127e8b4990fd74fe97fadef9e565d17",
        "id": "s12llGxNa2mB",
        "colab": {
          "base_uri": "https://localhost:8080/"
        },
        "outputId": "c72400f0-5d40-4db6-97dc-81cde0941e8e"
      },
      "source": [
        "model = RNN()\n",
        "model.summary()\n",
        "model.compile(loss='binary_crossentropy',optimizer=RMSprop(),metrics=['accuracy'])"
      ],
      "execution_count": 26,
      "outputs": [
        {
          "output_type": "stream",
          "text": [
            "Model: \"model_1\"\n",
            "_________________________________________________________________\n",
            "Layer (type)                 Output Shape              Param #   \n",
            "=================================================================\n",
            "inputs (InputLayer)          [(None, 150)]             0         \n",
            "_________________________________________________________________\n",
            "embedding_1 (Embedding)      (None, 150, 50)           50000     \n",
            "_________________________________________________________________\n",
            "lstm_1 (LSTM)                (None, 128)               91648     \n",
            "_________________________________________________________________\n",
            "FC1 (Dense)                  (None, 512)               66048     \n",
            "_________________________________________________________________\n",
            "activation_2 (Activation)    (None, 512)               0         \n",
            "_________________________________________________________________\n",
            "dropout_1 (Dropout)          (None, 512)               0         \n",
            "_________________________________________________________________\n",
            "out_layer (Dense)            (None, 3)                 1539      \n",
            "_________________________________________________________________\n",
            "activation_3 (Activation)    (None, 3)                 0         \n",
            "=================================================================\n",
            "Total params: 209,235\n",
            "Trainable params: 209,235\n",
            "Non-trainable params: 0\n",
            "_________________________________________________________________\n"
          ],
          "name": "stdout"
        }
      ]
    },
    {
      "cell_type": "code",
      "metadata": {
        "trusted": true,
        "_uuid": "98f6d6318352420ea49c532cda158f715f940f4b",
        "id": "oqIfKtuSa2mD",
        "colab": {
          "base_uri": "https://localhost:8080/"
        },
        "outputId": "321a42f8-91da-4ef3-c504-f584e79902b4"
      },
      "source": [
        "history = model.fit(sequences_matrix,Y_train,batch_size=128,epochs=8,\n",
        "          validation_split=0.2)\n",
        "          #,callbacks=[EarlyStopping(monitor='val_loss',min_delta=0.0001)])"
      ],
      "execution_count": 27,
      "outputs": [
        {
          "output_type": "stream",
          "text": [
            "Epoch 1/8\n",
            "40/40 [==============================] - 23s 532ms/step - loss: 0.6169 - accuracy: 0.5147 - val_loss: 0.3361 - val_accuracy: 0.9077\n",
            "Epoch 2/8\n",
            "40/40 [==============================] - 21s 531ms/step - loss: 0.2166 - accuracy: 0.9084 - val_loss: 0.1918 - val_accuracy: 0.9037\n",
            "Epoch 3/8\n",
            "40/40 [==============================] - 21s 531ms/step - loss: 0.0897 - accuracy: 0.9525 - val_loss: 0.0764 - val_accuracy: 0.9578\n",
            "Epoch 4/8\n",
            "40/40 [==============================] - 21s 534ms/step - loss: 0.2220 - accuracy: 0.9347 - val_loss: 0.0715 - val_accuracy: 0.9594\n",
            "Epoch 5/8\n",
            "40/40 [==============================] - 21s 534ms/step - loss: 0.0563 - accuracy: 0.9678 - val_loss: 0.0691 - val_accuracy: 0.9602\n",
            "Epoch 6/8\n",
            "40/40 [==============================] - 21s 531ms/step - loss: 0.0437 - accuracy: 0.9734 - val_loss: 0.0947 - val_accuracy: 0.9467\n",
            "Epoch 7/8\n",
            "40/40 [==============================] - 21s 532ms/step - loss: 0.0422 - accuracy: 0.9718 - val_loss: 0.0707 - val_accuracy: 0.9602\n",
            "Epoch 8/8\n",
            "40/40 [==============================] - 22s 538ms/step - loss: 0.0344 - accuracy: 0.9775 - val_loss: 0.0725 - val_accuracy: 0.9610\n"
          ],
          "name": "stdout"
        }
      ]
    },
    {
      "cell_type": "code",
      "metadata": {
        "id": "9W6DgpO3mwOK",
        "colab": {
          "base_uri": "https://localhost:8080/",
          "height": 592
        },
        "outputId": "0a95c766-7043-458d-d09e-ae523878a9e8"
      },
      "source": [
        "plt.figure(figsize=(16, 10), facecolor='grey')\r\n",
        "plt.plot(history.history['loss'], label='loss')\r\n",
        "plt.plot(history.history['val_loss'], label='val. loss')\r\n",
        "plt.legend()\r\n",
        "plt.show()"
      ],
      "execution_count": 28,
      "outputs": [
        {
          "output_type": "display_data",
          "data": {
            "image/png": "[encoded data removed]",
            "text/plain": [
              "<Figure size 1152x720 with 1 Axes>"
            ]
          },
          "metadata": {
            "tags": []
          }
        }
      ]
    },
    {
      "cell_type": "code",
      "metadata": {
        "collapsed": true,
        "trusted": true,
        "_uuid": "80036135a11387d952becaf2fecf653a65c02328",
        "id": "z_cfqhJxa2mJ"
      },
      "source": [
        "test_sequences = tok.texts_to_sequences(X_test)\n",
        "test_sequences_matrix = sequence.pad_sequences(test_sequences,maxlen=max_len)"
      ],
      "execution_count": 29,
      "outputs": []
    },
    {
      "cell_type": "code",
      "metadata": {
        "trusted": true,
        "_uuid": "0db183049b59d96388812a98efedfc865b7cc141",
        "id": "O3R4FCSea2mK",
        "colab": {
          "base_uri": "https://localhost:8080/",
          "height": 297
        },
        "outputId": "e3a84e7e-6d4d-4e8d-8646-4a9648b396d7"
      },
      "source": [
        "Y_pred = model.predict(test_sequences_matrix)\r\n",
        "\r\n",
        "for i in Y_pred:\r\n",
        "  if i[0] > i[1] and i[0] > i[2]:\r\n",
        "    i[0] = 1 ; i[1] = 0 ; i[2] = 0\r\n",
        "  elif i[1] > i[2]:\r\n",
        "    i[0] = 0 ; i[1] = 1 ; i[2] = 0\r\n",
        "  else:\r\n",
        "    i[0] = 0 ; i[1] = 0 ; i[2] = 1\r\n",
        "\r\n",
        "cm = confusion_matrix(Y_test.argmax(axis=1), Y_pred.argmax(axis=1), labels=[0,1,2])\r\n",
        "np.set_printoptions(precision=2)\r\n",
        "\r\n",
        "plt.figure(facecolor='grey')\r\n",
        "plot_confusion_matrix(cm, classes=['video', 'music', 'podcast'], normalize=True)"
      ],
      "execution_count": 30,
      "outputs": [
        {
          "output_type": "display_data",
          "data": {
            "image/png": "[encoded data removed]",
            "text/plain": [
              "<Figure size 432x288 with 2 Axes>"
            ]
          },
          "metadata": {
            "tags": []
          }
        }
      ]
    }
  ]
}